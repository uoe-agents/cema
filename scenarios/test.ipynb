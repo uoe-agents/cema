{
 "cells": [
  {
   "cell_type": "code",
   "execution_count": null,
   "metadata": {},
   "outputs": [
    {
     "name": "stdout",
     "output_type": "stream",
     "text": [
      "CARLA does not seem to be installed. CARLA-related functionality will not be available.\n",
      "No module named 'carla'\n",
      "INFO 02-11 16:21:38 __init__.py:190] Automatically detected platform cuda.\n"
     ]
    }
   ],
   "source": [
    "# Load imports\n",
    "import os\n",
    "import json\n",
    "from rich import print\n",
    "from cema.script.util import load_config, load_scenario\n",
    "from cema.llm import ChatHandlerConfig, ChatHandlerFactory, verbalize\n",
    "\n",
    "os.chdir(\"/home/balint/cema\")"
   ]
  },
  {
   "cell_type": "code",
   "execution_count": 2,
   "metadata": {},
   "outputs": [],
   "source": [
    "# Set configuations\n",
    "scenario = 1\n",
    "query_idx = 1\n",
    "model = \"llama-3B\""
   ]
  },
  {
   "cell_type": "code",
   "execution_count": 18,
   "metadata": {},
   "outputs": [],
   "source": [
    "# Load scenario and query and observations\n",
    "config = load_config(None, scenario)\n",
    "agent, query = load_scenario(scenario, query_idx)"
   ]
  },
  {
   "cell_type": "code",
   "execution_count": 25,
   "metadata": {},
   "outputs": [
    {
     "data": {
      "text/html": [
       "<pre style=\"white-space:pre;overflow-x:auto;line-height:normal;font-family:Menlo,'DejaVu Sans Mono',consolas,'Courier New',monospace\">Verbalized scenario: The scenario has <span style=\"color: #008080; text-decoration-color: #008080; font-weight: bold\">2</span> agents. Agent <span style=\"color: #008080; text-decoration-color: #008080; font-weight: bold\">0</span> is the autonomous vehicle <span style=\"font-weight: bold\">(</span>ego vehicle<span style=\"font-weight: bold\">)</span>.\n",
       "\n",
       "The ego vehicle observed the following control signals for each agent:\n",
       "\n",
       "Agent <span style=\"color: #008080; text-decoration-color: #008080; font-weight: bold\">0</span>:\n",
       "  Position: <span style=\"font-weight: bold\">[[</span><span style=\"color: #008080; text-decoration-color: #008080; font-weight: bold\">-11.58</span>, <span style=\"color: #008080; text-decoration-color: #008080; font-weight: bold\">-1.75</span><span style=\"font-weight: bold\">]</span>, <span style=\"font-weight: bold\">[</span><span style=\"color: #008080; text-decoration-color: #008080; font-weight: bold\">-10.59</span>, <span style=\"color: #008080; text-decoration-color: #008080; font-weight: bold\">-1.75</span><span style=\"font-weight: bold\">]</span>, <span style=\"font-weight: bold\">[</span> <span style=\"color: #008080; text-decoration-color: #008080; font-weight: bold\">-9.59</span>, <span style=\"color: #008080; text-decoration-color: #008080; font-weight: bold\">-1.75</span><span style=\"font-weight: bold\">]</span>, <span style=\"font-weight: bold\">[</span> <span style=\"color: #008080; text-decoration-color: #008080; font-weight: bold\">-8.6</span> , <span style=\"color: #008080; text-decoration-color: #008080; font-weight: bold\">-1.75</span><span style=\"font-weight: bold\">]</span>, <span style=\"font-weight: bold\">[</span> <span style=\"color: #008080; text-decoration-color: #008080; font-weight: bold\">-7.6</span> , <span style=\"color: #008080; text-decoration-color: #008080; font-weight: bold\">-1.75</span><span style=\"font-weight: bold\">]</span>, <span style=\"font-weight: bold\">[</span> <span style=\"color: #008080; text-decoration-color: #008080; font-weight: bold\">-6.61</span>, <span style=\"color: #008080; text-decoration-color: #008080; font-weight: bold\">-1.75</span><span style=\"font-weight: bold\">]</span>, \n",
       "<span style=\"font-weight: bold\">[</span> <span style=\"color: #008080; text-decoration-color: #008080; font-weight: bold\">-5.61</span>, <span style=\"color: #008080; text-decoration-color: #008080; font-weight: bold\">-1.75</span><span style=\"font-weight: bold\">]</span>, <span style=\"font-weight: bold\">[</span> <span style=\"color: #008080; text-decoration-color: #008080; font-weight: bold\">-4.61</span>, <span style=\"color: #008080; text-decoration-color: #008080; font-weight: bold\">-1.75</span><span style=\"font-weight: bold\">]</span>, <span style=\"font-weight: bold\">[</span> <span style=\"color: #008080; text-decoration-color: #008080; font-weight: bold\">-3.62</span>, <span style=\"color: #008080; text-decoration-color: #008080; font-weight: bold\">-1.75</span><span style=\"font-weight: bold\">]</span>, <span style=\"font-weight: bold\">[</span> <span style=\"color: #008080; text-decoration-color: #008080; font-weight: bold\">-2.62</span>, <span style=\"color: #008080; text-decoration-color: #008080; font-weight: bold\">-1.75</span><span style=\"font-weight: bold\">]</span>, <span style=\"font-weight: bold\">[</span> <span style=\"color: #008080; text-decoration-color: #008080; font-weight: bold\">-1.62</span>, <span style=\"color: #008080; text-decoration-color: #008080; font-weight: bold\">-1.75</span><span style=\"font-weight: bold\">]</span>, <span style=\"font-weight: bold\">[</span> <span style=\"color: #008080; text-decoration-color: #008080; font-weight: bold\">-0.62</span>, <span style=\"color: #008080; text-decoration-color: #008080; font-weight: bold\">-1.75</span><span style=\"font-weight: bold\">]</span>, <span style=\"font-weight: bold\">[</span> <span style=\"color: #008080; text-decoration-color: #008080; font-weight: bold\">0.37</span>, \n",
       "<span style=\"color: #008080; text-decoration-color: #008080; font-weight: bold\">-1.75</span><span style=\"font-weight: bold\">]</span>, <span style=\"font-weight: bold\">[</span> <span style=\"color: #008080; text-decoration-color: #008080; font-weight: bold\">1.36</span>, <span style=\"color: #008080; text-decoration-color: #008080; font-weight: bold\">-1.75</span><span style=\"font-weight: bold\">]</span>, <span style=\"font-weight: bold\">[</span> <span style=\"color: #008080; text-decoration-color: #008080; font-weight: bold\">2.32</span>, <span style=\"color: #008080; text-decoration-color: #008080; font-weight: bold\">-1.75</span><span style=\"font-weight: bold\">]</span>, <span style=\"font-weight: bold\">[</span> <span style=\"color: #008080; text-decoration-color: #008080; font-weight: bold\">3.25</span>, <span style=\"color: #008080; text-decoration-color: #008080; font-weight: bold\">-1.75</span><span style=\"font-weight: bold\">]</span>, <span style=\"font-weight: bold\">[</span> <span style=\"color: #008080; text-decoration-color: #008080; font-weight: bold\">4.15</span>, <span style=\"color: #008080; text-decoration-color: #008080; font-weight: bold\">-1.75</span><span style=\"font-weight: bold\">]</span>, <span style=\"font-weight: bold\">[</span> <span style=\"color: #008080; text-decoration-color: #008080; font-weight: bold\">5.03</span>, <span style=\"color: #008080; text-decoration-color: #008080; font-weight: bold\">-1.75</span><span style=\"font-weight: bold\">]</span>, <span style=\"font-weight: bold\">[</span> <span style=\"color: #008080; text-decoration-color: #008080; font-weight: bold\">5.88</span>, <span style=\"color: #008080; text-decoration-color: #008080; font-weight: bold\">-1.75</span><span style=\"font-weight: bold\">]</span>, <span style=\"font-weight: bold\">[</span> <span style=\"color: #008080; text-decoration-color: #008080; font-weight: bold\">6.72</span>, \n",
       "<span style=\"color: #008080; text-decoration-color: #008080; font-weight: bold\">-1.75</span><span style=\"font-weight: bold\">]</span>, <span style=\"font-weight: bold\">[</span> <span style=\"color: #008080; text-decoration-color: #008080; font-weight: bold\">7.54</span>, <span style=\"color: #008080; text-decoration-color: #008080; font-weight: bold\">-1.75</span><span style=\"font-weight: bold\">]</span>, <span style=\"font-weight: bold\">[</span> <span style=\"color: #008080; text-decoration-color: #008080; font-weight: bold\">8.36</span>, <span style=\"color: #008080; text-decoration-color: #008080; font-weight: bold\">-1.72</span><span style=\"font-weight: bold\">]</span>, <span style=\"font-weight: bold\">[</span> <span style=\"color: #008080; text-decoration-color: #008080; font-weight: bold\">9.18</span>, <span style=\"color: #008080; text-decoration-color: #008080; font-weight: bold\">-1.67</span><span style=\"font-weight: bold\">]</span>, <span style=\"font-weight: bold\">[</span> <span style=\"color: #008080; text-decoration-color: #008080; font-weight: bold\">10.01</span>, <span style=\"color: #008080; text-decoration-color: #008080; font-weight: bold\">-1.59</span><span style=\"font-weight: bold\">]</span>, <span style=\"font-weight: bold\">[</span> <span style=\"color: #008080; text-decoration-color: #008080; font-weight: bold\">10.84</span>, <span style=\"color: #008080; text-decoration-color: #008080; font-weight: bold\">-1.49</span><span style=\"font-weight: bold\">]</span>, <span style=\"font-weight: bold\">[</span> <span style=\"color: #008080; text-decoration-color: #008080; font-weight: bold\">11.67</span>, <span style=\"color: #008080; text-decoration-color: #008080; font-weight: bold\">-1.36</span><span style=\"font-weight: bold\">]</span>, <span style=\"font-weight: bold\">[</span> <span style=\"color: #008080; text-decoration-color: #008080; font-weight: bold\">12.5</span> ,\n",
       "<span style=\"color: #008080; text-decoration-color: #008080; font-weight: bold\">-1.21</span><span style=\"font-weight: bold\">]</span>, <span style=\"font-weight: bold\">[</span> <span style=\"color: #008080; text-decoration-color: #008080; font-weight: bold\">13.34</span>, <span style=\"color: #008080; text-decoration-color: #008080; font-weight: bold\">-1.04</span><span style=\"font-weight: bold\">]</span>, <span style=\"font-weight: bold\">[</span> <span style=\"color: #008080; text-decoration-color: #008080; font-weight: bold\">14.18</span>, <span style=\"color: #008080; text-decoration-color: #008080; font-weight: bold\">-0.85</span><span style=\"font-weight: bold\">]</span>, <span style=\"font-weight: bold\">[</span> <span style=\"color: #008080; text-decoration-color: #008080; font-weight: bold\">15.03</span>, <span style=\"color: #008080; text-decoration-color: #008080; font-weight: bold\">-0.64</span><span style=\"font-weight: bold\">]</span>, <span style=\"font-weight: bold\">[</span> <span style=\"color: #008080; text-decoration-color: #008080; font-weight: bold\">15.88</span>, <span style=\"color: #008080; text-decoration-color: #008080; font-weight: bold\">-0.43</span><span style=\"font-weight: bold\">]</span>, <span style=\"font-weight: bold\">[</span> <span style=\"color: #008080; text-decoration-color: #008080; font-weight: bold\">16.74</span>, <span style=\"color: #008080; text-decoration-color: #008080; font-weight: bold\">-0.21</span><span style=\"font-weight: bold\">]</span>, <span style=\"font-weight: bold\">[</span> <span style=\"color: #008080; text-decoration-color: #008080; font-weight: bold\">17.62</span>, <span style=\"color: #008080; text-decoration-color: #008080; font-weight: bold\">0.02</span><span style=\"font-weight: bold\">]</span>, <span style=\"font-weight: bold\">[</span> <span style=\"color: #008080; text-decoration-color: #008080; font-weight: bold\">18.5</span>\n",
       ", <span style=\"color: #008080; text-decoration-color: #008080; font-weight: bold\">0.25</span><span style=\"font-weight: bold\">]</span>, <span style=\"font-weight: bold\">[</span> <span style=\"color: #008080; text-decoration-color: #008080; font-weight: bold\">19.38</span>, <span style=\"color: #008080; text-decoration-color: #008080; font-weight: bold\">0.48</span><span style=\"font-weight: bold\">]</span>, <span style=\"font-weight: bold\">[</span> <span style=\"color: #008080; text-decoration-color: #008080; font-weight: bold\">20.28</span>, <span style=\"color: #008080; text-decoration-color: #008080; font-weight: bold\">0.7</span> <span style=\"font-weight: bold\">]</span>, <span style=\"font-weight: bold\">[</span> <span style=\"color: #008080; text-decoration-color: #008080; font-weight: bold\">21.18</span>, <span style=\"color: #008080; text-decoration-color: #008080; font-weight: bold\">0.92</span><span style=\"font-weight: bold\">]</span>, <span style=\"font-weight: bold\">[</span> <span style=\"color: #008080; text-decoration-color: #008080; font-weight: bold\">22.09</span>, <span style=\"color: #008080; text-decoration-color: #008080; font-weight: bold\">1.11</span><span style=\"font-weight: bold\">]</span>, <span style=\"font-weight: bold\">[</span> <span style=\"color: #008080; text-decoration-color: #008080; font-weight: bold\">23</span>. , <span style=\"color: #008080; text-decoration-color: #008080; font-weight: bold\">1.29</span><span style=\"font-weight: bold\">]</span>, <span style=\"font-weight: bold\">[</span> <span style=\"color: #008080; text-decoration-color: #008080; font-weight: bold\">23.91</span>, <span style=\"color: #008080; text-decoration-color: #008080; font-weight: bold\">1.44</span><span style=\"font-weight: bold\">]</span>, <span style=\"font-weight: bold\">[</span> <span style=\"color: #008080; text-decoration-color: #008080; font-weight: bold\">24.83</span>, \n",
       "<span style=\"color: #008080; text-decoration-color: #008080; font-weight: bold\">1.57</span><span style=\"font-weight: bold\">]]</span>\n",
       "  Speed: <span style=\"font-weight: bold\">[</span><span style=\"color: #008080; text-decoration-color: #008080; font-weight: bold\">9.93</span>, <span style=\"color: #008080; text-decoration-color: #008080; font-weight: bold\">9.94</span>, <span style=\"color: #008080; text-decoration-color: #008080; font-weight: bold\">9.94</span>, <span style=\"color: #008080; text-decoration-color: #008080; font-weight: bold\">9.95</span>, <span style=\"color: #008080; text-decoration-color: #008080; font-weight: bold\">9.95</span>, <span style=\"color: #008080; text-decoration-color: #008080; font-weight: bold\">9.96</span>, <span style=\"color: #008080; text-decoration-color: #008080; font-weight: bold\">9.96</span>, <span style=\"color: #008080; text-decoration-color: #008080; font-weight: bold\">9.97</span>, <span style=\"color: #008080; text-decoration-color: #008080; font-weight: bold\">9.97</span>, <span style=\"color: #008080; text-decoration-color: #008080; font-weight: bold\">9.97</span>, <span style=\"color: #008080; text-decoration-color: #008080; font-weight: bold\">9.98</span>, <span style=\"color: #008080; text-decoration-color: #008080; font-weight: bold\">9.98</span>, <span style=\"color: #008080; text-decoration-color: #008080; font-weight: bold\">9.98</span>, <span style=\"color: #008080; text-decoration-color: #008080; font-weight: bold\">9.81</span>, <span style=\"color: #008080; text-decoration-color: #008080; font-weight: bold\">9.5</span> , <span style=\"color: #008080; text-decoration-color: #008080; font-weight: bold\">9.21</span>, <span style=\"color: #008080; text-decoration-color: #008080; font-weight: bold\">8.95</span>, \n",
       "<span style=\"color: #008080; text-decoration-color: #008080; font-weight: bold\">8.72</span>, <span style=\"color: #008080; text-decoration-color: #008080; font-weight: bold\">8.51</span>, <span style=\"color: #008080; text-decoration-color: #008080; font-weight: bold\">8.32</span>, <span style=\"color: #008080; text-decoration-color: #008080; font-weight: bold\">8.15</span>, <span style=\"color: #008080; text-decoration-color: #008080; font-weight: bold\">8.22</span>, <span style=\"color: #008080; text-decoration-color: #008080; font-weight: bold\">8.26</span>, <span style=\"color: #008080; text-decoration-color: #008080; font-weight: bold\">8.3</span> , <span style=\"color: #008080; text-decoration-color: #008080; font-weight: bold\">8.36</span>, <span style=\"color: #008080; text-decoration-color: #008080; font-weight: bold\">8.42</span>, <span style=\"color: #008080; text-decoration-color: #008080; font-weight: bold\">8.49</span>, <span style=\"color: #008080; text-decoration-color: #008080; font-weight: bold\">8.57</span>, <span style=\"color: #008080; text-decoration-color: #008080; font-weight: bold\">8.65</span>, <span style=\"color: #008080; text-decoration-color: #008080; font-weight: bold\">8.74</span>, <span style=\"color: #008080; text-decoration-color: #008080; font-weight: bold\">8.83</span>, <span style=\"color: #008080; text-decoration-color: #008080; font-weight: bold\">8.93</span>, <span style=\"color: #008080; text-decoration-color: #008080; font-weight: bold\">9.03</span>, <span style=\"color: #008080; text-decoration-color: #008080; font-weight: bold\">9.12</span>, <span style=\"color: #008080; text-decoration-color: #008080; font-weight: bold\">9.19</span>, <span style=\"color: #008080; text-decoration-color: #008080; font-weight: bold\">9.24</span>, \n",
       "<span style=\"color: #008080; text-decoration-color: #008080; font-weight: bold\">9.27</span>, <span style=\"color: #008080; text-decoration-color: #008080; font-weight: bold\">9.29</span>, <span style=\"color: #008080; text-decoration-color: #008080; font-weight: bold\">9.28</span>, <span style=\"color: #008080; text-decoration-color: #008080; font-weight: bold\">9.25</span>, <span style=\"color: #008080; text-decoration-color: #008080; font-weight: bold\">9.2</span> <span style=\"font-weight: bold\">]</span>\n",
       "\n",
       "Agent <span style=\"color: #008080; text-decoration-color: #008080; font-weight: bold\">1</span>:\n",
       "  Position: <span style=\"font-weight: bold\">[[</span> <span style=\"color: #008080; text-decoration-color: #008080; font-weight: bold\">0.77</span>, <span style=\"color: #008080; text-decoration-color: #008080; font-weight: bold\">1.75</span><span style=\"font-weight: bold\">]</span>, <span style=\"font-weight: bold\">[</span> <span style=\"color: #008080; text-decoration-color: #008080; font-weight: bold\">1.75</span>, <span style=\"color: #008080; text-decoration-color: #008080; font-weight: bold\">1.72</span><span style=\"font-weight: bold\">]</span>, <span style=\"font-weight: bold\">[</span> <span style=\"color: #008080; text-decoration-color: #008080; font-weight: bold\">2.7</span> , <span style=\"color: #008080; text-decoration-color: #008080; font-weight: bold\">1.65</span><span style=\"font-weight: bold\">]</span>, <span style=\"font-weight: bold\">[</span> <span style=\"color: #008080; text-decoration-color: #008080; font-weight: bold\">3.64</span>, <span style=\"color: #008080; text-decoration-color: #008080; font-weight: bold\">1.55</span><span style=\"font-weight: bold\">]</span>, <span style=\"font-weight: bold\">[</span> <span style=\"color: #008080; text-decoration-color: #008080; font-weight: bold\">4.56</span>, <span style=\"color: #008080; text-decoration-color: #008080; font-weight: bold\">1.42</span><span style=\"font-weight: bold\">]</span>, <span style=\"font-weight: bold\">[</span> <span style=\"color: #008080; text-decoration-color: #008080; font-weight: bold\">5.47</span>, <span style=\"color: #008080; text-decoration-color: #008080; font-weight: bold\">1.26</span><span style=\"font-weight: bold\">]</span>, <span style=\"font-weight: bold\">[</span> <span style=\"color: #008080; text-decoration-color: #008080; font-weight: bold\">6.37</span>, \n",
       "<span style=\"color: #008080; text-decoration-color: #008080; font-weight: bold\">1.08</span><span style=\"font-weight: bold\">]</span>, <span style=\"font-weight: bold\">[</span> <span style=\"color: #008080; text-decoration-color: #008080; font-weight: bold\">7.28</span>, <span style=\"color: #008080; text-decoration-color: #008080; font-weight: bold\">0.88</span><span style=\"font-weight: bold\">]</span>, <span style=\"font-weight: bold\">[</span> <span style=\"color: #008080; text-decoration-color: #008080; font-weight: bold\">8.18</span>, <span style=\"color: #008080; text-decoration-color: #008080; font-weight: bold\">0.66</span><span style=\"font-weight: bold\">]</span>, <span style=\"font-weight: bold\">[</span> <span style=\"color: #008080; text-decoration-color: #008080; font-weight: bold\">9.08</span>, <span style=\"color: #008080; text-decoration-color: #008080; font-weight: bold\">0.44</span><span style=\"font-weight: bold\">]</span>, <span style=\"font-weight: bold\">[</span> <span style=\"color: #008080; text-decoration-color: #008080; font-weight: bold\">9.98</span>, <span style=\"color: #008080; text-decoration-color: #008080; font-weight: bold\">0.21</span><span style=\"font-weight: bold\">]</span>, <span style=\"font-weight: bold\">[</span><span style=\"color: #008080; text-decoration-color: #008080; font-weight: bold\">10.89</span>, <span style=\"color: #008080; text-decoration-color: #008080; font-weight: bold\">-0.03</span><span style=\"font-weight: bold\">]</span>, <span style=\"font-weight: bold\">[</span><span style=\"color: #008080; text-decoration-color: #008080; font-weight: bold\">11.81</span>, <span style=\"color: #008080; text-decoration-color: #008080; font-weight: bold\">-0.27</span><span style=\"font-weight: bold\">]</span>, <span style=\"font-weight: bold\">[</span><span style=\"color: #008080; text-decoration-color: #008080; font-weight: bold\">12.73</span>, <span style=\"color: #008080; text-decoration-color: #008080; font-weight: bold\">-0.51</span><span style=\"font-weight: bold\">]</span>, \n",
       "<span style=\"font-weight: bold\">[</span><span style=\"color: #008080; text-decoration-color: #008080; font-weight: bold\">13.65</span>, <span style=\"color: #008080; text-decoration-color: #008080; font-weight: bold\">-0.74</span><span style=\"font-weight: bold\">]</span>, <span style=\"font-weight: bold\">[</span><span style=\"color: #008080; text-decoration-color: #008080; font-weight: bold\">14.58</span>, <span style=\"color: #008080; text-decoration-color: #008080; font-weight: bold\">-0.95</span><span style=\"font-weight: bold\">]</span>, <span style=\"font-weight: bold\">[</span><span style=\"color: #008080; text-decoration-color: #008080; font-weight: bold\">15.51</span>, <span style=\"color: #008080; text-decoration-color: #008080; font-weight: bold\">-1.15</span><span style=\"font-weight: bold\">]</span>, <span style=\"font-weight: bold\">[</span><span style=\"color: #008080; text-decoration-color: #008080; font-weight: bold\">16.43</span>, <span style=\"color: #008080; text-decoration-color: #008080; font-weight: bold\">-1.33</span><span style=\"font-weight: bold\">]</span>, <span style=\"font-weight: bold\">[</span><span style=\"color: #008080; text-decoration-color: #008080; font-weight: bold\">17.36</span>, <span style=\"color: #008080; text-decoration-color: #008080; font-weight: bold\">-1.47</span><span style=\"font-weight: bold\">]</span>, <span style=\"font-weight: bold\">[</span><span style=\"color: #008080; text-decoration-color: #008080; font-weight: bold\">18.29</span>, <span style=\"color: #008080; text-decoration-color: #008080; font-weight: bold\">-1.59</span><span style=\"font-weight: bold\">]</span>, <span style=\"font-weight: bold\">[</span><span style=\"color: #008080; text-decoration-color: #008080; font-weight: bold\">19.2</span> , <span style=\"color: #008080; text-decoration-color: #008080; font-weight: bold\">-1.68</span><span style=\"font-weight: bold\">]</span>, \n",
       "<span style=\"font-weight: bold\">[</span><span style=\"color: #008080; text-decoration-color: #008080; font-weight: bold\">20.12</span>, <span style=\"color: #008080; text-decoration-color: #008080; font-weight: bold\">-1.71</span><span style=\"font-weight: bold\">]</span>, <span style=\"font-weight: bold\">[</span><span style=\"color: #008080; text-decoration-color: #008080; font-weight: bold\">21.02</span>, <span style=\"color: #008080; text-decoration-color: #008080; font-weight: bold\">-1.72</span><span style=\"font-weight: bold\">]</span>, <span style=\"font-weight: bold\">[</span><span style=\"color: #008080; text-decoration-color: #008080; font-weight: bold\">21.92</span>, <span style=\"color: #008080; text-decoration-color: #008080; font-weight: bold\">-1.73</span><span style=\"font-weight: bold\">]</span>, <span style=\"font-weight: bold\">[</span><span style=\"color: #008080; text-decoration-color: #008080; font-weight: bold\">22.84</span>, <span style=\"color: #008080; text-decoration-color: #008080; font-weight: bold\">-1.75</span><span style=\"font-weight: bold\">]</span>, <span style=\"font-weight: bold\">[</span><span style=\"color: #008080; text-decoration-color: #008080; font-weight: bold\">23.76</span>, <span style=\"color: #008080; text-decoration-color: #008080; font-weight: bold\">-1.75</span><span style=\"font-weight: bold\">]</span>, <span style=\"font-weight: bold\">[</span><span style=\"color: #008080; text-decoration-color: #008080; font-weight: bold\">24.69</span>, <span style=\"color: #008080; text-decoration-color: #008080; font-weight: bold\">-1.75</span><span style=\"font-weight: bold\">]</span>, <span style=\"font-weight: bold\">[</span><span style=\"color: #008080; text-decoration-color: #008080; font-weight: bold\">25.63</span>, <span style=\"color: #008080; text-decoration-color: #008080; font-weight: bold\">-1.75</span><span style=\"font-weight: bold\">]</span>, \n",
       "<span style=\"font-weight: bold\">[</span><span style=\"color: #008080; text-decoration-color: #008080; font-weight: bold\">26.57</span>, <span style=\"color: #008080; text-decoration-color: #008080; font-weight: bold\">-1.75</span><span style=\"font-weight: bold\">]</span>, <span style=\"font-weight: bold\">[</span><span style=\"color: #008080; text-decoration-color: #008080; font-weight: bold\">27.51</span>, <span style=\"color: #008080; text-decoration-color: #008080; font-weight: bold\">-1.75</span><span style=\"font-weight: bold\">]</span>, <span style=\"font-weight: bold\">[</span><span style=\"color: #008080; text-decoration-color: #008080; font-weight: bold\">28.43</span>, <span style=\"color: #008080; text-decoration-color: #008080; font-weight: bold\">-1.75</span><span style=\"font-weight: bold\">]</span>, <span style=\"font-weight: bold\">[</span><span style=\"color: #008080; text-decoration-color: #008080; font-weight: bold\">29.34</span>, <span style=\"color: #008080; text-decoration-color: #008080; font-weight: bold\">-1.75</span><span style=\"font-weight: bold\">]</span>, <span style=\"font-weight: bold\">[</span><span style=\"color: #008080; text-decoration-color: #008080; font-weight: bold\">30.22</span>, <span style=\"color: #008080; text-decoration-color: #008080; font-weight: bold\">-1.75</span><span style=\"font-weight: bold\">]</span>, <span style=\"font-weight: bold\">[</span><span style=\"color: #008080; text-decoration-color: #008080; font-weight: bold\">31.08</span>, <span style=\"color: #008080; text-decoration-color: #008080; font-weight: bold\">-1.75</span><span style=\"font-weight: bold\">]</span>, <span style=\"font-weight: bold\">[</span><span style=\"color: #008080; text-decoration-color: #008080; font-weight: bold\">31.91</span>, <span style=\"color: #008080; text-decoration-color: #008080; font-weight: bold\">-1.75</span><span style=\"font-weight: bold\">]</span>, \n",
       "<span style=\"font-weight: bold\">[</span><span style=\"color: #008080; text-decoration-color: #008080; font-weight: bold\">32.71</span>, <span style=\"color: #008080; text-decoration-color: #008080; font-weight: bold\">-1.75</span><span style=\"font-weight: bold\">]</span>, <span style=\"font-weight: bold\">[</span><span style=\"color: #008080; text-decoration-color: #008080; font-weight: bold\">33.48</span>, <span style=\"color: #008080; text-decoration-color: #008080; font-weight: bold\">-1.75</span><span style=\"font-weight: bold\">]</span>, <span style=\"font-weight: bold\">[</span><span style=\"color: #008080; text-decoration-color: #008080; font-weight: bold\">34.21</span>, <span style=\"color: #008080; text-decoration-color: #008080; font-weight: bold\">-1.75</span><span style=\"font-weight: bold\">]</span>, <span style=\"font-weight: bold\">[</span><span style=\"color: #008080; text-decoration-color: #008080; font-weight: bold\">34.91</span>, <span style=\"color: #008080; text-decoration-color: #008080; font-weight: bold\">-1.75</span><span style=\"font-weight: bold\">]</span>, <span style=\"font-weight: bold\">[</span><span style=\"color: #008080; text-decoration-color: #008080; font-weight: bold\">35.58</span>, <span style=\"color: #008080; text-decoration-color: #008080; font-weight: bold\">-1.75</span><span style=\"font-weight: bold\">]</span>, <span style=\"font-weight: bold\">[</span><span style=\"color: #008080; text-decoration-color: #008080; font-weight: bold\">36.21</span>, <span style=\"color: #008080; text-decoration-color: #008080; font-weight: bold\">-1.75</span><span style=\"font-weight: bold\">]]</span>\n",
       "  Speed: <span style=\"font-weight: bold\">[</span><span style=\"color: #008080; text-decoration-color: #008080; font-weight: bold\">9.9</span> , <span style=\"color: #008080; text-decoration-color: #008080; font-weight: bold\">9.71</span>, <span style=\"color: #008080; text-decoration-color: #008080; font-weight: bold\">9.5</span> , <span style=\"color: #008080; text-decoration-color: #008080; font-weight: bold\">9.37</span>, <span style=\"color: #008080; text-decoration-color: #008080; font-weight: bold\">9.28</span>, <span style=\"color: #008080; text-decoration-color: #008080; font-weight: bold\">9.24</span>, <span style=\"color: #008080; text-decoration-color: #008080; font-weight: bold\">9.23</span>, <span style=\"color: #008080; text-decoration-color: #008080; font-weight: bold\">9.25</span>, <span style=\"color: #008080; text-decoration-color: #008080; font-weight: bold\">9.27</span>, <span style=\"color: #008080; text-decoration-color: #008080; font-weight: bold\">9.31</span>, <span style=\"color: #008080; text-decoration-color: #008080; font-weight: bold\">9.35</span>, <span style=\"color: #008080; text-decoration-color: #008080; font-weight: bold\">9.41</span>, <span style=\"color: #008080; text-decoration-color: #008080; font-weight: bold\">9.46</span>, <span style=\"color: #008080; text-decoration-color: #008080; font-weight: bold\">9.5</span> , <span style=\"color: #008080; text-decoration-color: #008080; font-weight: bold\">9.52</span>, <span style=\"color: #008080; text-decoration-color: #008080; font-weight: bold\">9.52</span>, <span style=\"color: #008080; text-decoration-color: #008080; font-weight: bold\">9.49</span>, \n",
       "<span style=\"color: #008080; text-decoration-color: #008080; font-weight: bold\">9.44</span>, <span style=\"color: #008080; text-decoration-color: #008080; font-weight: bold\">9.38</span>, <span style=\"color: #008080; text-decoration-color: #008080; font-weight: bold\">9.3</span> , <span style=\"color: #008080; text-decoration-color: #008080; font-weight: bold\">9.2</span> , <span style=\"color: #008080; text-decoration-color: #008080; font-weight: bold\">9.09</span>, <span style=\"color: #008080; text-decoration-color: #008080; font-weight: bold\">9.02</span>, <span style=\"color: #008080; text-decoration-color: #008080; font-weight: bold\">9.08</span>, <span style=\"color: #008080; text-decoration-color: #008080; font-weight: bold\">9.16</span>, <span style=\"color: #008080; text-decoration-color: #008080; font-weight: bold\">9.24</span>, <span style=\"color: #008080; text-decoration-color: #008080; font-weight: bold\">9.31</span>, <span style=\"color: #008080; text-decoration-color: #008080; font-weight: bold\">9.38</span>, <span style=\"color: #008080; text-decoration-color: #008080; font-weight: bold\">9.44</span>, <span style=\"color: #008080; text-decoration-color: #008080; font-weight: bold\">9.36</span>, <span style=\"color: #008080; text-decoration-color: #008080; font-weight: bold\">9.22</span>, <span style=\"color: #008080; text-decoration-color: #008080; font-weight: bold\">9.03</span>, <span style=\"color: #008080; text-decoration-color: #008080; font-weight: bold\">8.79</span>, <span style=\"color: #008080; text-decoration-color: #008080; font-weight: bold\">8.51</span>, <span style=\"color: #008080; text-decoration-color: #008080; font-weight: bold\">8.22</span>, <span style=\"color: #008080; text-decoration-color: #008080; font-weight: bold\">7.91</span>, \n",
       "<span style=\"color: #008080; text-decoration-color: #008080; font-weight: bold\">7.59</span>, <span style=\"color: #008080; text-decoration-color: #008080; font-weight: bold\">7.26</span>, <span style=\"color: #008080; text-decoration-color: #008080; font-weight: bold\">6.92</span>, <span style=\"color: #008080; text-decoration-color: #008080; font-weight: bold\">6.59</span>, <span style=\"color: #008080; text-decoration-color: #008080; font-weight: bold\">6.27</span><span style=\"font-weight: bold\">]</span>\n",
       "\n",
       "\n",
       "What if agent <span style=\"color: #008080; text-decoration-color: #008080; font-weight: bold\">1</span> had not changed lane right? Give a concise explanation.\n",
       "</pre>\n"
      ],
      "text/plain": [
       "Verbalized scenario: The scenario has \u001b[1;36m2\u001b[0m agents. Agent \u001b[1;36m0\u001b[0m is the autonomous vehicle \u001b[1m(\u001b[0mego vehicle\u001b[1m)\u001b[0m.\n",
       "\n",
       "The ego vehicle observed the following control signals for each agent:\n",
       "\n",
       "Agent \u001b[1;36m0\u001b[0m:\n",
       "  Position: \u001b[1m[\u001b[0m\u001b[1m[\u001b[0m\u001b[1;36m-11.58\u001b[0m, \u001b[1;36m-1.75\u001b[0m\u001b[1m]\u001b[0m, \u001b[1m[\u001b[0m\u001b[1;36m-10.59\u001b[0m, \u001b[1;36m-1.75\u001b[0m\u001b[1m]\u001b[0m, \u001b[1m[\u001b[0m \u001b[1;36m-9.59\u001b[0m, \u001b[1;36m-1.75\u001b[0m\u001b[1m]\u001b[0m, \u001b[1m[\u001b[0m \u001b[1;36m-8.6\u001b[0m , \u001b[1;36m-1.75\u001b[0m\u001b[1m]\u001b[0m, \u001b[1m[\u001b[0m \u001b[1;36m-7.6\u001b[0m , \u001b[1;36m-1.75\u001b[0m\u001b[1m]\u001b[0m, \u001b[1m[\u001b[0m \u001b[1;36m-6.61\u001b[0m, \u001b[1;36m-1.75\u001b[0m\u001b[1m]\u001b[0m, \n",
       "\u001b[1m[\u001b[0m \u001b[1;36m-5.61\u001b[0m, \u001b[1;36m-1.75\u001b[0m\u001b[1m]\u001b[0m, \u001b[1m[\u001b[0m \u001b[1;36m-4.61\u001b[0m, \u001b[1;36m-1.75\u001b[0m\u001b[1m]\u001b[0m, \u001b[1m[\u001b[0m \u001b[1;36m-3.62\u001b[0m, \u001b[1;36m-1.75\u001b[0m\u001b[1m]\u001b[0m, \u001b[1m[\u001b[0m \u001b[1;36m-2.62\u001b[0m, \u001b[1;36m-1.75\u001b[0m\u001b[1m]\u001b[0m, \u001b[1m[\u001b[0m \u001b[1;36m-1.62\u001b[0m, \u001b[1;36m-1.75\u001b[0m\u001b[1m]\u001b[0m, \u001b[1m[\u001b[0m \u001b[1;36m-0.62\u001b[0m, \u001b[1;36m-1.75\u001b[0m\u001b[1m]\u001b[0m, \u001b[1m[\u001b[0m \u001b[1;36m0.37\u001b[0m, \n",
       "\u001b[1;36m-1.75\u001b[0m\u001b[1m]\u001b[0m, \u001b[1m[\u001b[0m \u001b[1;36m1.36\u001b[0m, \u001b[1;36m-1.75\u001b[0m\u001b[1m]\u001b[0m, \u001b[1m[\u001b[0m \u001b[1;36m2.32\u001b[0m, \u001b[1;36m-1.75\u001b[0m\u001b[1m]\u001b[0m, \u001b[1m[\u001b[0m \u001b[1;36m3.25\u001b[0m, \u001b[1;36m-1.75\u001b[0m\u001b[1m]\u001b[0m, \u001b[1m[\u001b[0m \u001b[1;36m4.15\u001b[0m, \u001b[1;36m-1.75\u001b[0m\u001b[1m]\u001b[0m, \u001b[1m[\u001b[0m \u001b[1;36m5.03\u001b[0m, \u001b[1;36m-1.75\u001b[0m\u001b[1m]\u001b[0m, \u001b[1m[\u001b[0m \u001b[1;36m5.88\u001b[0m, \u001b[1;36m-1.75\u001b[0m\u001b[1m]\u001b[0m, \u001b[1m[\u001b[0m \u001b[1;36m6.72\u001b[0m, \n",
       "\u001b[1;36m-1.75\u001b[0m\u001b[1m]\u001b[0m, \u001b[1m[\u001b[0m \u001b[1;36m7.54\u001b[0m, \u001b[1;36m-1.75\u001b[0m\u001b[1m]\u001b[0m, \u001b[1m[\u001b[0m \u001b[1;36m8.36\u001b[0m, \u001b[1;36m-1.72\u001b[0m\u001b[1m]\u001b[0m, \u001b[1m[\u001b[0m \u001b[1;36m9.18\u001b[0m, \u001b[1;36m-1.67\u001b[0m\u001b[1m]\u001b[0m, \u001b[1m[\u001b[0m \u001b[1;36m10.01\u001b[0m, \u001b[1;36m-1.59\u001b[0m\u001b[1m]\u001b[0m, \u001b[1m[\u001b[0m \u001b[1;36m10.84\u001b[0m, \u001b[1;36m-1.49\u001b[0m\u001b[1m]\u001b[0m, \u001b[1m[\u001b[0m \u001b[1;36m11.67\u001b[0m, \u001b[1;36m-1.36\u001b[0m\u001b[1m]\u001b[0m, \u001b[1m[\u001b[0m \u001b[1;36m12.5\u001b[0m ,\n",
       "\u001b[1;36m-1.21\u001b[0m\u001b[1m]\u001b[0m, \u001b[1m[\u001b[0m \u001b[1;36m13.34\u001b[0m, \u001b[1;36m-1.04\u001b[0m\u001b[1m]\u001b[0m, \u001b[1m[\u001b[0m \u001b[1;36m14.18\u001b[0m, \u001b[1;36m-0.85\u001b[0m\u001b[1m]\u001b[0m, \u001b[1m[\u001b[0m \u001b[1;36m15.03\u001b[0m, \u001b[1;36m-0.64\u001b[0m\u001b[1m]\u001b[0m, \u001b[1m[\u001b[0m \u001b[1;36m15.88\u001b[0m, \u001b[1;36m-0.43\u001b[0m\u001b[1m]\u001b[0m, \u001b[1m[\u001b[0m \u001b[1;36m16.74\u001b[0m, \u001b[1;36m-0.21\u001b[0m\u001b[1m]\u001b[0m, \u001b[1m[\u001b[0m \u001b[1;36m17.62\u001b[0m, \u001b[1;36m0.02\u001b[0m\u001b[1m]\u001b[0m, \u001b[1m[\u001b[0m \u001b[1;36m18.5\u001b[0m\n",
       ", \u001b[1;36m0.25\u001b[0m\u001b[1m]\u001b[0m, \u001b[1m[\u001b[0m \u001b[1;36m19.38\u001b[0m, \u001b[1;36m0.48\u001b[0m\u001b[1m]\u001b[0m, \u001b[1m[\u001b[0m \u001b[1;36m20.28\u001b[0m, \u001b[1;36m0.7\u001b[0m \u001b[1m]\u001b[0m, \u001b[1m[\u001b[0m \u001b[1;36m21.18\u001b[0m, \u001b[1;36m0.92\u001b[0m\u001b[1m]\u001b[0m, \u001b[1m[\u001b[0m \u001b[1;36m22.09\u001b[0m, \u001b[1;36m1.11\u001b[0m\u001b[1m]\u001b[0m, \u001b[1m[\u001b[0m \u001b[1;36m23\u001b[0m. , \u001b[1;36m1.29\u001b[0m\u001b[1m]\u001b[0m, \u001b[1m[\u001b[0m \u001b[1;36m23.91\u001b[0m, \u001b[1;36m1.44\u001b[0m\u001b[1m]\u001b[0m, \u001b[1m[\u001b[0m \u001b[1;36m24.83\u001b[0m, \n",
       "\u001b[1;36m1.57\u001b[0m\u001b[1m]\u001b[0m\u001b[1m]\u001b[0m\n",
       "  Speed: \u001b[1m[\u001b[0m\u001b[1;36m9.93\u001b[0m, \u001b[1;36m9.94\u001b[0m, \u001b[1;36m9.94\u001b[0m, \u001b[1;36m9.95\u001b[0m, \u001b[1;36m9.95\u001b[0m, \u001b[1;36m9.96\u001b[0m, \u001b[1;36m9.96\u001b[0m, \u001b[1;36m9.97\u001b[0m, \u001b[1;36m9.97\u001b[0m, \u001b[1;36m9.97\u001b[0m, \u001b[1;36m9.98\u001b[0m, \u001b[1;36m9.98\u001b[0m, \u001b[1;36m9.98\u001b[0m, \u001b[1;36m9.81\u001b[0m, \u001b[1;36m9.5\u001b[0m , \u001b[1;36m9.21\u001b[0m, \u001b[1;36m8.95\u001b[0m, \n",
       "\u001b[1;36m8.72\u001b[0m, \u001b[1;36m8.51\u001b[0m, \u001b[1;36m8.32\u001b[0m, \u001b[1;36m8.15\u001b[0m, \u001b[1;36m8.22\u001b[0m, \u001b[1;36m8.26\u001b[0m, \u001b[1;36m8.3\u001b[0m , \u001b[1;36m8.36\u001b[0m, \u001b[1;36m8.42\u001b[0m, \u001b[1;36m8.49\u001b[0m, \u001b[1;36m8.57\u001b[0m, \u001b[1;36m8.65\u001b[0m, \u001b[1;36m8.74\u001b[0m, \u001b[1;36m8.83\u001b[0m, \u001b[1;36m8.93\u001b[0m, \u001b[1;36m9.03\u001b[0m, \u001b[1;36m9.12\u001b[0m, \u001b[1;36m9.19\u001b[0m, \u001b[1;36m9.24\u001b[0m, \n",
       "\u001b[1;36m9.27\u001b[0m, \u001b[1;36m9.29\u001b[0m, \u001b[1;36m9.28\u001b[0m, \u001b[1;36m9.25\u001b[0m, \u001b[1;36m9.2\u001b[0m \u001b[1m]\u001b[0m\n",
       "\n",
       "Agent \u001b[1;36m1\u001b[0m:\n",
       "  Position: \u001b[1m[\u001b[0m\u001b[1m[\u001b[0m \u001b[1;36m0.77\u001b[0m, \u001b[1;36m1.75\u001b[0m\u001b[1m]\u001b[0m, \u001b[1m[\u001b[0m \u001b[1;36m1.75\u001b[0m, \u001b[1;36m1.72\u001b[0m\u001b[1m]\u001b[0m, \u001b[1m[\u001b[0m \u001b[1;36m2.7\u001b[0m , \u001b[1;36m1.65\u001b[0m\u001b[1m]\u001b[0m, \u001b[1m[\u001b[0m \u001b[1;36m3.64\u001b[0m, \u001b[1;36m1.55\u001b[0m\u001b[1m]\u001b[0m, \u001b[1m[\u001b[0m \u001b[1;36m4.56\u001b[0m, \u001b[1;36m1.42\u001b[0m\u001b[1m]\u001b[0m, \u001b[1m[\u001b[0m \u001b[1;36m5.47\u001b[0m, \u001b[1;36m1.26\u001b[0m\u001b[1m]\u001b[0m, \u001b[1m[\u001b[0m \u001b[1;36m6.37\u001b[0m, \n",
       "\u001b[1;36m1.08\u001b[0m\u001b[1m]\u001b[0m, \u001b[1m[\u001b[0m \u001b[1;36m7.28\u001b[0m, \u001b[1;36m0.88\u001b[0m\u001b[1m]\u001b[0m, \u001b[1m[\u001b[0m \u001b[1;36m8.18\u001b[0m, \u001b[1;36m0.66\u001b[0m\u001b[1m]\u001b[0m, \u001b[1m[\u001b[0m \u001b[1;36m9.08\u001b[0m, \u001b[1;36m0.44\u001b[0m\u001b[1m]\u001b[0m, \u001b[1m[\u001b[0m \u001b[1;36m9.98\u001b[0m, \u001b[1;36m0.21\u001b[0m\u001b[1m]\u001b[0m, \u001b[1m[\u001b[0m\u001b[1;36m10.89\u001b[0m, \u001b[1;36m-0.03\u001b[0m\u001b[1m]\u001b[0m, \u001b[1m[\u001b[0m\u001b[1;36m11.81\u001b[0m, \u001b[1;36m-0.27\u001b[0m\u001b[1m]\u001b[0m, \u001b[1m[\u001b[0m\u001b[1;36m12.73\u001b[0m, \u001b[1;36m-0.51\u001b[0m\u001b[1m]\u001b[0m, \n",
       "\u001b[1m[\u001b[0m\u001b[1;36m13.65\u001b[0m, \u001b[1;36m-0.74\u001b[0m\u001b[1m]\u001b[0m, \u001b[1m[\u001b[0m\u001b[1;36m14.58\u001b[0m, \u001b[1;36m-0.95\u001b[0m\u001b[1m]\u001b[0m, \u001b[1m[\u001b[0m\u001b[1;36m15.51\u001b[0m, \u001b[1;36m-1.15\u001b[0m\u001b[1m]\u001b[0m, \u001b[1m[\u001b[0m\u001b[1;36m16.43\u001b[0m, \u001b[1;36m-1.33\u001b[0m\u001b[1m]\u001b[0m, \u001b[1m[\u001b[0m\u001b[1;36m17.36\u001b[0m, \u001b[1;36m-1.47\u001b[0m\u001b[1m]\u001b[0m, \u001b[1m[\u001b[0m\u001b[1;36m18.29\u001b[0m, \u001b[1;36m-1.59\u001b[0m\u001b[1m]\u001b[0m, \u001b[1m[\u001b[0m\u001b[1;36m19.2\u001b[0m , \u001b[1;36m-1.68\u001b[0m\u001b[1m]\u001b[0m, \n",
       "\u001b[1m[\u001b[0m\u001b[1;36m20.12\u001b[0m, \u001b[1;36m-1.71\u001b[0m\u001b[1m]\u001b[0m, \u001b[1m[\u001b[0m\u001b[1;36m21.02\u001b[0m, \u001b[1;36m-1.72\u001b[0m\u001b[1m]\u001b[0m, \u001b[1m[\u001b[0m\u001b[1;36m21.92\u001b[0m, \u001b[1;36m-1.73\u001b[0m\u001b[1m]\u001b[0m, \u001b[1m[\u001b[0m\u001b[1;36m22.84\u001b[0m, \u001b[1;36m-1.75\u001b[0m\u001b[1m]\u001b[0m, \u001b[1m[\u001b[0m\u001b[1;36m23.76\u001b[0m, \u001b[1;36m-1.75\u001b[0m\u001b[1m]\u001b[0m, \u001b[1m[\u001b[0m\u001b[1;36m24.69\u001b[0m, \u001b[1;36m-1.75\u001b[0m\u001b[1m]\u001b[0m, \u001b[1m[\u001b[0m\u001b[1;36m25.63\u001b[0m, \u001b[1;36m-1.75\u001b[0m\u001b[1m]\u001b[0m, \n",
       "\u001b[1m[\u001b[0m\u001b[1;36m26.57\u001b[0m, \u001b[1;36m-1.75\u001b[0m\u001b[1m]\u001b[0m, \u001b[1m[\u001b[0m\u001b[1;36m27.51\u001b[0m, \u001b[1;36m-1.75\u001b[0m\u001b[1m]\u001b[0m, \u001b[1m[\u001b[0m\u001b[1;36m28.43\u001b[0m, \u001b[1;36m-1.75\u001b[0m\u001b[1m]\u001b[0m, \u001b[1m[\u001b[0m\u001b[1;36m29.34\u001b[0m, \u001b[1;36m-1.75\u001b[0m\u001b[1m]\u001b[0m, \u001b[1m[\u001b[0m\u001b[1;36m30.22\u001b[0m, \u001b[1;36m-1.75\u001b[0m\u001b[1m]\u001b[0m, \u001b[1m[\u001b[0m\u001b[1;36m31.08\u001b[0m, \u001b[1;36m-1.75\u001b[0m\u001b[1m]\u001b[0m, \u001b[1m[\u001b[0m\u001b[1;36m31.91\u001b[0m, \u001b[1;36m-1.75\u001b[0m\u001b[1m]\u001b[0m, \n",
       "\u001b[1m[\u001b[0m\u001b[1;36m32.71\u001b[0m, \u001b[1;36m-1.75\u001b[0m\u001b[1m]\u001b[0m, \u001b[1m[\u001b[0m\u001b[1;36m33.48\u001b[0m, \u001b[1;36m-1.75\u001b[0m\u001b[1m]\u001b[0m, \u001b[1m[\u001b[0m\u001b[1;36m34.21\u001b[0m, \u001b[1;36m-1.75\u001b[0m\u001b[1m]\u001b[0m, \u001b[1m[\u001b[0m\u001b[1;36m34.91\u001b[0m, \u001b[1;36m-1.75\u001b[0m\u001b[1m]\u001b[0m, \u001b[1m[\u001b[0m\u001b[1;36m35.58\u001b[0m, \u001b[1;36m-1.75\u001b[0m\u001b[1m]\u001b[0m, \u001b[1m[\u001b[0m\u001b[1;36m36.21\u001b[0m, \u001b[1;36m-1.75\u001b[0m\u001b[1m]\u001b[0m\u001b[1m]\u001b[0m\n",
       "  Speed: \u001b[1m[\u001b[0m\u001b[1;36m9.9\u001b[0m , \u001b[1;36m9.71\u001b[0m, \u001b[1;36m9.5\u001b[0m , \u001b[1;36m9.37\u001b[0m, \u001b[1;36m9.28\u001b[0m, \u001b[1;36m9.24\u001b[0m, \u001b[1;36m9.23\u001b[0m, \u001b[1;36m9.25\u001b[0m, \u001b[1;36m9.27\u001b[0m, \u001b[1;36m9.31\u001b[0m, \u001b[1;36m9.35\u001b[0m, \u001b[1;36m9.41\u001b[0m, \u001b[1;36m9.46\u001b[0m, \u001b[1;36m9.5\u001b[0m , \u001b[1;36m9.52\u001b[0m, \u001b[1;36m9.52\u001b[0m, \u001b[1;36m9.49\u001b[0m, \n",
       "\u001b[1;36m9.44\u001b[0m, \u001b[1;36m9.38\u001b[0m, \u001b[1;36m9.3\u001b[0m , \u001b[1;36m9.2\u001b[0m , \u001b[1;36m9.09\u001b[0m, \u001b[1;36m9.02\u001b[0m, \u001b[1;36m9.08\u001b[0m, \u001b[1;36m9.16\u001b[0m, \u001b[1;36m9.24\u001b[0m, \u001b[1;36m9.31\u001b[0m, \u001b[1;36m9.38\u001b[0m, \u001b[1;36m9.44\u001b[0m, \u001b[1;36m9.36\u001b[0m, \u001b[1;36m9.22\u001b[0m, \u001b[1;36m9.03\u001b[0m, \u001b[1;36m8.79\u001b[0m, \u001b[1;36m8.51\u001b[0m, \u001b[1;36m8.22\u001b[0m, \u001b[1;36m7.91\u001b[0m, \n",
       "\u001b[1;36m7.59\u001b[0m, \u001b[1;36m7.26\u001b[0m, \u001b[1;36m6.92\u001b[0m, \u001b[1;36m6.59\u001b[0m, \u001b[1;36m6.27\u001b[0m\u001b[1m]\u001b[0m\n",
       "\n",
       "\n",
       "What if agent \u001b[1;36m1\u001b[0m had not changed lane right? Give a concise explanation.\n"
      ]
     },
     "metadata": {},
     "output_type": "display_data"
    }
   ],
   "source": [
    "# Verbalize the road layout for the scenario\n",
    "verbalized_scenario = verbalize.scenario(\n",
    "    config,\n",
    "    agent.scenario_map,\n",
    "    agent.observations,\n",
    "    query,\n",
    "    add_rules=False,\n",
    "    add_road_layout=False,\n",
    "    f_subsample=2,\n",
    "    control_signals=[\"position\", \"speed\"])\n",
    "verbalized_scenario += \" Give a concise explanation.\"\n",
    "print(\"Verbalized scenario:\", verbalized_scenario)"
   ]
  },
  {
   "cell_type": "code",
   "execution_count": 6,
   "metadata": {},
   "outputs": [
    {
     "name": "stderr",
     "output_type": "stream",
     "text": [
      "Model llama-3B not found among handlers. Using LLMChatHandler.\n"
     ]
    },
    {
     "name": "stdout",
     "output_type": "stream",
     "text": [
      "INFO 02-11 16:27:26 config.py:542] This model supports multiple tasks: {'embed', 'generate', 'classify', 'reward', 'score'}. Defaulting to 'generate'.\n",
      "INFO 02-11 16:27:26 llm_engine.py:234] Initializing a V0 LLM engine (v0.7.2) with config: model='meta-llama/Llama-3.2-3B-Instruct', speculative_config=None, tokenizer='meta-llama/Llama-3.2-3B-Instruct', skip_tokenizer_init=False, tokenizer_mode=auto, revision=None, override_neuron_config=None, tokenizer_revision=None, trust_remote_code=False, dtype=torch.bfloat16, max_seq_len=16384, download_dir=None, load_format=LoadFormat.AUTO, tensor_parallel_size=1, pipeline_parallel_size=1, disable_custom_all_reduce=False, quantization=None, enforce_eager=False, kv_cache_dtype=auto,  device_config=cuda, decoding_config=DecodingConfig(guided_decoding_backend='xgrammar'), observability_config=ObservabilityConfig(otlp_traces_endpoint=None, collect_model_forward_time=False, collect_model_execute_time=False), seed=0, served_model_name=meta-llama/Llama-3.2-3B-Instruct, num_scheduler_steps=1, multi_step_stream_outputs=True, enable_prefix_caching=False, chunked_prefill_enabled=False, use_async_output_proc=True, disable_mm_preprocessor_cache=False, mm_processor_kwargs=None, pooler_config=None, compilation_config={\"splitting_ops\":[],\"compile_sizes\":[],\"cudagraph_capture_sizes\":[256,248,240,232,224,216,208,200,192,184,176,168,160,152,144,136,128,120,112,104,96,88,80,72,64,56,48,40,32,24,16,8,4,2,1],\"max_capture_size\":256}, use_cached_outputs=False, \n",
      "INFO 02-11 16:27:27 model_runner.py:1110] Starting to load model meta-llama/Llama-3.2-3B-Instruct...\n",
      "INFO 02-11 16:27:28 weight_utils.py:252] Using model weights format ['*.safetensors']\n"
     ]
    },
    {
     "data": {
      "application/vnd.jupyter.widget-view+json": {
       "model_id": "b35a7c794f6149da8488acb296a41af7",
       "version_major": 2,
       "version_minor": 0
      },
      "text/plain": [
       "Loading safetensors checkpoint shards:   0% Completed | 0/2 [00:00<?, ?it/s]\n"
      ]
     },
     "metadata": {},
     "output_type": "display_data"
    },
    {
     "name": "stdout",
     "output_type": "stream",
     "text": [
      "INFO 02-11 16:27:35 model_runner.py:1115] Loading model weights took 5.9848 GB\n",
      "INFO 02-11 16:28:09 worker.py:267] Memory profiling takes 32.65 seconds\n",
      "INFO 02-11 16:28:09 worker.py:267] the current vLLM instance can use total_gpu_memory (11.99GiB) x gpu_memory_utilization (0.90) = 10.79GiB\n",
      "INFO 02-11 16:28:09 worker.py:267] model weights take 5.98GiB; non_torch_memory takes -1.26GiB; PyTorch activation peak memory takes 1.26GiB; the rest of the memory reserved for KV Cache is 4.81GiB.\n",
      "INFO 02-11 16:28:10 executor_base.py:110] # CUDA blocks: 2815, # CPU blocks: 2340\n",
      "INFO 02-11 16:28:10 executor_base.py:115] Maximum concurrency for 16384 tokens per request: 2.75x\n",
      "INFO 02-11 16:28:11 model_runner.py:1434] Capturing cudagraphs for decoding. This may lead to unexpected consequences if the model is not static. To run the model in eager mode, set 'enforce_eager=True' or use '--enforce-eager' in the CLI. If out-of-memory error occurs during cudagraph capture, consider decreasing `gpu_memory_utilization` or switching to eager mode. You can also reduce the `max_num_seqs` as needed to decrease memory usage.\n"
     ]
    },
    {
     "name": "stderr",
     "output_type": "stream",
     "text": [
      "Capturing CUDA graph shapes: 100%|██████████| 35/35 [01:36<00:00,  2.75s/it]"
     ]
    },
    {
     "name": "stdout",
     "output_type": "stream",
     "text": [
      "INFO 02-11 16:29:47 model_runner.py:1562] Graph capturing finished in 97 secs, took 0.00 GiB\n",
      "INFO 02-11 16:29:47 llm_engine.py:431] init engine (profile, create kv cache, warmup model) took 132.54 seconds\n"
     ]
    },
    {
     "name": "stderr",
     "output_type": "stream",
     "text": [
      "\n"
     ]
    }
   ],
   "source": [
    "# Load LLM interaction interface and scenario\n",
    "configs = json.load(open(\"scenarios/llm/model_configs.json\", \"r\", encoding=\"utf-8\"))\n",
    "config = configs[\"base\"]\n",
    "if model in configs:\n",
    "    config.update(configs[model])\n",
    "else:\n",
    "    print(\"Model '%s' not found in model_configs.json\", model)\n",
    "config = ChatHandlerConfig(config)\n",
    "chat_handler = ChatHandlerFactory.create_chat_handler(model, config)"
   ]
  },
  {
   "cell_type": "code",
   "execution_count": 26,
   "metadata": {},
   "outputs": [],
   "source": [
    "from vllm import SamplingParams\n",
    "chat_handler.reset_history()\n",
    "chat_handler._sampling_params = SamplingParams(max_tokens=256, temperature=0.6)\n",
    "response, _ = chat_handler.interact(verbalized_scenario)"
   ]
  },
  {
   "cell_type": "code",
   "execution_count": 27,
   "metadata": {},
   "outputs": [
    {
     "data": {
      "text/html": [
       "<pre style=\"white-space:pre;overflow-x:auto;line-height:normal;font-family:Menlo,'DejaVu Sans Mono',consolas,'Courier New',monospace\">If Agent <span style=\"color: #008080; text-decoration-color: #008080; font-weight: bold\">1</span> had not changed lane to the right at the current position and speed, the autonomous vehicle <span style=\"font-weight: bold\">(</span>Agent <span style=\"color: #008080; text-decoration-color: #008080; font-weight: bold\">0</span><span style=\"font-weight: bold\">)</span> \n",
       "would need to continue following the same trajectory.\n",
       "\n",
       "Explanation:\n",
       "Agent <span style=\"color: #008080; text-decoration-color: #008080; font-weight: bold\">1</span>'s current position and speed are closer to the same as Agent <span style=\"color: #008080; text-decoration-color: #008080; font-weight: bold\">0</span>. If Agent <span style=\"color: #008080; text-decoration-color: #008080; font-weight: bold\">1</span> had not changed lane, it would \n",
       "have continued on the same path and would likely be at the same position and speed as Agent <span style=\"color: #008080; text-decoration-color: #008080; font-weight: bold\">0</span>. The autonomous \n",
       "vehicle <span style=\"font-weight: bold\">(</span>Agent <span style=\"color: #008080; text-decoration-color: #008080; font-weight: bold\">0</span><span style=\"font-weight: bold\">)</span> would continue to follow Agent <span style=\"color: #008080; text-decoration-color: #008080; font-weight: bold\">1</span>'s trajectory, tracking its position and speed. This means the \n",
       "autonomous vehicle <span style=\"font-weight: bold\">(</span>Agent <span style=\"color: #008080; text-decoration-color: #008080; font-weight: bold\">0</span><span style=\"font-weight: bold\">)</span> would not need to adjust its lane or speed to avoid a collision, as it would be \n",
       "following Agent <span style=\"color: #008080; text-decoration-color: #008080; font-weight: bold\">1</span>'s unchanged trajectory.\n",
       "</pre>\n"
      ],
      "text/plain": [
       "If Agent \u001b[1;36m1\u001b[0m had not changed lane to the right at the current position and speed, the autonomous vehicle \u001b[1m(\u001b[0mAgent \u001b[1;36m0\u001b[0m\u001b[1m)\u001b[0m \n",
       "would need to continue following the same trajectory.\n",
       "\n",
       "Explanation:\n",
       "Agent \u001b[1;36m1\u001b[0m's current position and speed are closer to the same as Agent \u001b[1;36m0\u001b[0m. If Agent \u001b[1;36m1\u001b[0m had not changed lane, it would \n",
       "have continued on the same path and would likely be at the same position and speed as Agent \u001b[1;36m0\u001b[0m. The autonomous \n",
       "vehicle \u001b[1m(\u001b[0mAgent \u001b[1;36m0\u001b[0m\u001b[1m)\u001b[0m would continue to follow Agent \u001b[1;36m1\u001b[0m's trajectory, tracking its position and speed. This means the \n",
       "autonomous vehicle \u001b[1m(\u001b[0mAgent \u001b[1;36m0\u001b[0m\u001b[1m)\u001b[0m would not need to adjust its lane or speed to avoid a collision, as it would be \n",
       "following Agent \u001b[1;36m1\u001b[0m's unchanged trajectory.\n"
      ]
     },
     "metadata": {},
     "output_type": "display_data"
    }
   ],
   "source": [
    "print(response[0])"
   ]
  },
  {
   "cell_type": "code",
   "execution_count": null,
   "metadata": {},
   "outputs": [],
   "source": []
  }
 ],
 "metadata": {
  "kernelspec": {
   "display_name": ".venv",
   "language": "python",
   "name": "python3"
  },
  "language_info": {
   "codemirror_mode": {
    "name": "ipython",
    "version": 3
   },
   "file_extension": ".py",
   "mimetype": "text/x-python",
   "name": "python",
   "nbconvert_exporter": "python",
   "pygments_lexer": "ipython3",
   "version": "3.11.11"
  }
 },
 "nbformat": 4,
 "nbformat_minor": 2
}
